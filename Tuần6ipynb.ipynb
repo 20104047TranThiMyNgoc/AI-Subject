{
  "nbformat": 4,
  "nbformat_minor": 0,
  "metadata": {
    "colab": {
      "provenance": [],
      "collapsed_sections": [],
      "authorship_tag": "ABX9TyO2H870xp14m40FydZylM+S",
      "include_colab_link": true
    },
    "kernelspec": {
      "name": "python3",
      "display_name": "Python 3"
    },
    "language_info": {
      "name": "python"
    }
  },
  "cells": [
    {
      "cell_type": "markdown",
      "metadata": {
        "id": "view-in-github",
        "colab_type": "text"
      },
      "source": [
        "<a href=\"https://colab.research.google.com/github/20104047TranThiMyNgoc/AI-Subject/blob/main/Tu%E1%BA%A7n6ipynb.ipynb\" target=\"_parent\"><img src=\"https://colab.research.google.com/assets/colab-badge.svg\" alt=\"Open In Colab\"/></a>"
      ]
    },
    {
      "cell_type": "code",
      "source": [
        "from keras.datasets import mnist\n",
        "(train_images,train_labels),(test_images,test_labels)=mnist.load_data()\n",
        "train_images.shape\n",
        "train_labels.shape\n",
        "test_images.shape\n",
        "test_labels.shape"
      ],
      "metadata": {
        "colab": {
          "base_uri": "https://localhost:8080/"
        },
        "id": "NcJNwHy934Sk",
        "outputId": "f999d2a3-241c-42c8-bcd5-232aef240d3b"
      },
      "execution_count": null,
      "outputs": [
        {
          "output_type": "execute_result",
          "data": {
            "text/plain": [
              "(10000,)"
            ]
          },
          "metadata": {},
          "execution_count": 56
        }
      ]
    },
    {
      "cell_type": "code",
      "source": [
        "import matplotlib.pyplot as plt\n",
        "plt.imshow(x_train[200])\n",
        "plt.show()"
      ],
      "metadata": {
        "colab": {
          "base_uri": "https://localhost:8080/",
          "height": 265
        },
        "id": "uoBAPfQTJEgI",
        "outputId": "7948c79b-42aa-4d9a-bd38-36072c7542af"
      },
      "execution_count": null,
      "outputs": [
        {
          "output_type": "display_data",
          "data": {
            "text/plain": [
              "<Figure size 432x288 with 1 Axes>"
            ],
            "image/png": "[encoded data removed]"
          },
          "metadata": {
            "needs_background": "light"
          }
        }
      ]
    },
    {
      "cell_type": "code",
      "source": [
        "from keras.layers.serialization import activation\n",
        "from keras import models\n",
        "from keras import layers\n",
        "model=models.Sequential()\n",
        "model.add(layers.Dense(512,activation='relu',input_shape=(28*28,)))\n",
        "model.add(layers.Dense(10,activation='softmax'))\n",
        "model.summary()"
      ],
      "metadata": {
        "colab": {
          "base_uri": "https://localhost:8080/"
        },
        "id": "ysE7kcHx8dTt",
        "outputId": "17a3e63f-db2e-4603-cd56-5d9d8f590f6f"
      },
      "execution_count": null,
      "outputs": [
        {
          "output_type": "stream",
          "name": "stdout",
          "text": [
            "Model: \"sequential_4\"\n",
            "_________________________________________________________________\n",
            " Layer (type)                Output Shape              Param #   \n",
            "=================================================================\n",
            " dense_8 (Dense)             (None, 512)               401920    \n",
            "                                                                 \n",
            " dense_9 (Dense)             (None, 10)                5130      \n",
            "                                                                 \n",
            "=================================================================\n",
            "Total params: 407,050\n",
            "Trainable params: 407,050\n",
            "Non-trainable params: 0\n",
            "_________________________________________________________________\n"
          ]
        }
      ]
    },
    {
      "cell_type": "code",
      "source": [
        "train_images=train_images.reshape((60000,28*28))\n",
        "train_images=train_images.astype('float32')/255\n",
        "test_images=test_images.reshape((10000,28*28))\n",
        "test_images=test_images.astype('float32')/255\n",
        "train_images.shape\n",
        "\n",
        "test_images.shape"
      ],
      "metadata": {
        "colab": {
          "base_uri": "https://localhost:8080/"
        },
        "id": "RFX2I3Ey-8Wn",
        "outputId": "3a01ad83-73dd-4c6d-b63e-2152a09c0d95"
      },
      "execution_count": null,
      "outputs": [
        {
          "output_type": "execute_result",
          "data": {
            "text/plain": [
              "(10000, 784)"
            ]
          },
          "metadata": {},
          "execution_count": 59
        }
      ]
    },
    {
      "cell_type": "code",
      "source": [
        "from keras.utils import to_categorical\n",
        "train_labels=to_categorical(train_labels)\n",
        "test_label=to_categorical(test_labels)\n",
        "train_labels.shape"
      ],
      "metadata": {
        "colab": {
          "base_uri": "https://localhost:8080/"
        },
        "id": "HXF2G82hAQO3",
        "outputId": "192ff25b-469e-4d1f-a85f-9c6ac65aecce"
      },
      "execution_count": null,
      "outputs": [
        {
          "output_type": "execute_result",
          "data": {
            "text/plain": [
              "(60000, 10)"
            ]
          },
          "metadata": {},
          "execution_count": 60
        }
      ]
    },
    {
      "cell_type": "code",
      "source": [
        "model.compile(optimizer='rmsprop',loss='categorical_crossentropy',metrics=['accuracy'])\n",
        "model.fit(train_images,train_labels,epochs=100,batch_size=128)"
      ],
      "metadata": {
        "colab": {
          "base_uri": "https://localhost:8080/"
        },
        "id": "4Kh2OhvZFPLJ",
        "outputId": "494f448e-f419-4a31-dd27-0f43d9f2c621"
      },
      "execution_count": null,
      "outputs": [
        {
          "output_type": "stream",
          "name": "stdout",
          "text": [
            "Epoch 1/100\n",
            "469/469 [==============================] - 5s 11ms/step - loss: 4.8200e-09 - accuracy: 1.0000\n",
            "Epoch 2/100\n",
            "469/469 [==============================] - 6s 13ms/step - loss: 4.8101e-09 - accuracy: 1.0000\n",
            "Epoch 3/100\n",
            "469/469 [==============================] - 5s 10ms/step - loss: 4.7644e-09 - accuracy: 1.0000\n",
            "Epoch 4/100\n",
            "469/469 [==============================] - 5s 10ms/step - loss: 4.7505e-09 - accuracy: 1.0000\n",
            "Epoch 5/100\n",
            "469/469 [==============================] - 5s 10ms/step - loss: 4.7445e-09 - accuracy: 1.0000\n",
            "Epoch 6/100\n",
            "469/469 [==============================] - 5s 11ms/step - loss: 4.7108e-09 - accuracy: 1.0000\n",
            "Epoch 7/100\n",
            "469/469 [==============================] - 5s 10ms/step - loss: 4.6511e-09 - accuracy: 1.0000\n",
            "Epoch 8/100\n",
            "469/469 [==============================] - 5s 11ms/step - loss: 4.6452e-09 - accuracy: 1.0000\n",
            "Epoch 9/100\n",
            "469/469 [==============================] - 5s 10ms/step - loss: 4.6432e-09 - accuracy: 1.0000\n",
            "Epoch 10/100\n",
            "469/469 [==============================] - 5s 11ms/step - loss: 4.6055e-09 - accuracy: 1.0000\n",
            "Epoch 11/100\n",
            "469/469 [==============================] - 5s 11ms/step - loss: 4.5737e-09 - accuracy: 1.0000\n",
            "Epoch 12/100\n",
            "469/469 [==============================] - 5s 10ms/step - loss: 4.6213e-09 - accuracy: 1.0000\n",
            "Epoch 13/100\n",
            "469/469 [==============================] - 5s 11ms/step - loss: 4.5359e-09 - accuracy: 1.0000\n",
            "Epoch 14/100\n",
            "469/469 [==============================] - 5s 11ms/step - loss: 4.5478e-09 - accuracy: 1.0000\n",
            "Epoch 15/100\n",
            "469/469 [==============================] - 5s 11ms/step - loss: 4.4942e-09 - accuracy: 1.0000\n",
            "Epoch 16/100\n",
            "469/469 [==============================] - 5s 11ms/step - loss: 4.4703e-09 - accuracy: 1.0000\n",
            "Epoch 17/100\n",
            "469/469 [==============================] - 6s 13ms/step - loss: 4.4366e-09 - accuracy: 1.0000\n",
            "Epoch 18/100\n",
            "469/469 [==============================] - 6s 13ms/step - loss: 4.4545e-09 - accuracy: 1.0000\n",
            "Epoch 19/100\n",
            "469/469 [==============================] - 7s 15ms/step - loss: 4.4982e-09 - accuracy: 1.0000\n",
            "Epoch 20/100\n",
            "469/469 [==============================] - 8s 16ms/step - loss: 4.4425e-09 - accuracy: 1.0000\n",
            "Epoch 21/100\n",
            "469/469 [==============================] - 7s 15ms/step - loss: 4.3551e-09 - accuracy: 1.0000\n",
            "Epoch 22/100\n",
            "469/469 [==============================] - 6s 13ms/step - loss: 4.3869e-09 - accuracy: 1.0000\n",
            "Epoch 23/100\n",
            "469/469 [==============================] - 5s 11ms/step - loss: 4.3809e-09 - accuracy: 1.0000\n",
            "Epoch 24/100\n",
            "469/469 [==============================] - 5s 11ms/step - loss: 4.3213e-09 - accuracy: 1.0000\n",
            "Epoch 25/100\n",
            "469/469 [==============================] - 5s 11ms/step - loss: 4.3412e-09 - accuracy: 1.0000\n",
            "Epoch 26/100\n",
            "469/469 [==============================] - 5s 11ms/step - loss: 4.3293e-09 - accuracy: 1.0000\n",
            "Epoch 27/100\n",
            "469/469 [==============================] - 5s 11ms/step - loss: 4.2617e-09 - accuracy: 1.0000\n",
            "Epoch 28/100\n",
            "469/469 [==============================] - 5s 11ms/step - loss: 4.3174e-09 - accuracy: 1.0000\n",
            "Epoch 29/100\n",
            "469/469 [==============================] - 5s 11ms/step - loss: 4.2478e-09 - accuracy: 1.0000\n",
            "Epoch 30/100\n",
            "469/469 [==============================] - 5s 11ms/step - loss: 4.3193e-09 - accuracy: 1.0000\n",
            "Epoch 31/100\n",
            "469/469 [==============================] - 5s 11ms/step - loss: 4.2419e-09 - accuracy: 1.0000\n",
            "Epoch 32/100\n",
            "469/469 [==============================] - 5s 11ms/step - loss: 4.2200e-09 - accuracy: 1.0000\n",
            "Epoch 33/100\n",
            "469/469 [==============================] - 5s 11ms/step - loss: 4.2617e-09 - accuracy: 1.0000\n",
            "Epoch 34/100\n",
            "469/469 [==============================] - 5s 11ms/step - loss: 4.2439e-09 - accuracy: 1.0000\n",
            "Epoch 35/100\n",
            "469/469 [==============================] - 5s 11ms/step - loss: 4.2478e-09 - accuracy: 1.0000\n",
            "Epoch 36/100\n",
            "469/469 [==============================] - 5s 11ms/step - loss: 4.2419e-09 - accuracy: 1.0000\n",
            "Epoch 37/100\n",
            "469/469 [==============================] - 5s 11ms/step - loss: 4.2518e-09 - accuracy: 1.0000\n",
            "Epoch 38/100\n",
            "469/469 [==============================] - 5s 11ms/step - loss: 4.2419e-09 - accuracy: 1.0000\n",
            "Epoch 39/100\n",
            "469/469 [==============================] - 5s 11ms/step - loss: 4.2299e-09 - accuracy: 1.0000\n",
            "Epoch 40/100\n",
            "469/469 [==============================] - 5s 11ms/step - loss: 4.2260e-09 - accuracy: 1.0000\n",
            "Epoch 41/100\n",
            "469/469 [==============================] - 5s 11ms/step - loss: 4.2180e-09 - accuracy: 1.0000\n",
            "Epoch 42/100\n",
            "469/469 [==============================] - 5s 11ms/step - loss: 4.2021e-09 - accuracy: 1.0000\n",
            "Epoch 43/100\n",
            "469/469 [==============================] - 5s 11ms/step - loss: 4.1902e-09 - accuracy: 1.0000\n",
            "Epoch 44/100\n",
            "469/469 [==============================] - 6s 13ms/step - loss: 4.1485e-09 - accuracy: 1.0000\n",
            "Epoch 45/100\n",
            "469/469 [==============================] - 5s 11ms/step - loss: 4.1803e-09 - accuracy: 1.0000\n",
            "Epoch 46/100\n",
            "469/469 [==============================] - 5s 11ms/step - loss: 4.2140e-09 - accuracy: 1.0000\n",
            "Epoch 47/100\n",
            "469/469 [==============================] - 5s 11ms/step - loss: 4.1803e-09 - accuracy: 1.0000\n",
            "Epoch 48/100\n",
            "469/469 [==============================] - 5s 10ms/step - loss: 4.1604e-09 - accuracy: 1.0000\n",
            "Epoch 49/100\n",
            "469/469 [==============================] - 5s 10ms/step - loss: 4.1564e-09 - accuracy: 1.0000\n",
            "Epoch 50/100\n",
            "469/469 [==============================] - 5s 10ms/step - loss: 4.1743e-09 - accuracy: 1.0000\n",
            "Epoch 51/100\n",
            "469/469 [==============================] - 5s 10ms/step - loss: 4.1425e-09 - accuracy: 1.0000\n",
            "Epoch 52/100\n",
            "469/469 [==============================] - 5s 10ms/step - loss: 4.0869e-09 - accuracy: 1.0000\n",
            "Epoch 53/100\n",
            "469/469 [==============================] - 5s 10ms/step - loss: 4.1723e-09 - accuracy: 1.0000\n",
            "Epoch 54/100\n",
            "469/469 [==============================] - 5s 11ms/step - loss: 4.1664e-09 - accuracy: 1.0000\n",
            "Epoch 55/100\n",
            "469/469 [==============================] - 5s 10ms/step - loss: 4.1485e-09 - accuracy: 1.0000\n",
            "Epoch 56/100\n",
            "469/469 [==============================] - 5s 10ms/step - loss: 4.0968e-09 - accuracy: 1.0000\n",
            "Epoch 57/100\n",
            "469/469 [==============================] - 5s 10ms/step - loss: 4.1187e-09 - accuracy: 1.0000\n",
            "Epoch 58/100\n",
            "469/469 [==============================] - 5s 11ms/step - loss: 4.1783e-09 - accuracy: 1.0000\n",
            "Epoch 59/100\n",
            "469/469 [==============================] - 5s 11ms/step - loss: 4.1564e-09 - accuracy: 1.0000\n",
            "Epoch 60/100\n",
            "469/469 [==============================] - 5s 11ms/step - loss: 4.1147e-09 - accuracy: 1.0000\n",
            "Epoch 61/100\n",
            "469/469 [==============================] - 5s 11ms/step - loss: 4.1167e-09 - accuracy: 1.0000\n",
            "Epoch 62/100\n",
            "469/469 [==============================] - 5s 11ms/step - loss: 4.1167e-09 - accuracy: 1.0000\n",
            "Epoch 63/100\n",
            "469/469 [==============================] - 5s 11ms/step - loss: 4.0849e-09 - accuracy: 1.0000\n",
            "Epoch 64/100\n",
            "469/469 [==============================] - 5s 11ms/step - loss: 4.1266e-09 - accuracy: 1.0000\n",
            "Epoch 65/100\n",
            "469/469 [==============================] - 5s 11ms/step - loss: 4.1286e-09 - accuracy: 1.0000\n",
            "Epoch 66/100\n",
            "469/469 [==============================] - 5s 11ms/step - loss: 4.1584e-09 - accuracy: 1.0000\n",
            "Epoch 67/100\n",
            "469/469 [==============================] - 5s 11ms/step - loss: 4.1008e-09 - accuracy: 1.0000\n",
            "Epoch 68/100\n",
            "469/469 [==============================] - 5s 11ms/step - loss: 4.1068e-09 - accuracy: 1.0000\n",
            "Epoch 69/100\n",
            "469/469 [==============================] - 5s 11ms/step - loss: 4.1485e-09 - accuracy: 1.0000\n",
            "Epoch 70/100\n",
            "469/469 [==============================] - 5s 11ms/step - loss: 4.1246e-09 - accuracy: 1.0000\n",
            "Epoch 71/100\n",
            "469/469 [==============================] - 5s 11ms/step - loss: 4.0710e-09 - accuracy: 1.0000\n",
            "Epoch 72/100\n",
            "469/469 [==============================] - 5s 11ms/step - loss: 4.0630e-09 - accuracy: 1.0000\n",
            "Epoch 73/100\n",
            "469/469 [==============================] - 5s 11ms/step - loss: 4.1425e-09 - accuracy: 1.0000\n",
            "Epoch 74/100\n",
            "469/469 [==============================] - 5s 11ms/step - loss: 4.1385e-09 - accuracy: 1.0000\n",
            "Epoch 75/100\n",
            "469/469 [==============================] - 5s 11ms/step - loss: 4.0750e-09 - accuracy: 1.0000\n",
            "Epoch 76/100\n",
            "469/469 [==============================] - 5s 11ms/step - loss: 4.1127e-09 - accuracy: 1.0000\n",
            "Epoch 77/100\n",
            "469/469 [==============================] - 5s 11ms/step - loss: 4.1445e-09 - accuracy: 1.0000\n",
            "Epoch 78/100\n",
            "469/469 [==============================] - 5s 10ms/step - loss: 4.1207e-09 - accuracy: 1.0000\n",
            "Epoch 79/100\n",
            "469/469 [==============================] - 5s 11ms/step - loss: 4.0869e-09 - accuracy: 1.0000\n",
            "Epoch 80/100\n",
            "469/469 [==============================] - 6s 13ms/step - loss: 4.0829e-09 - accuracy: 1.0000\n",
            "Epoch 81/100\n",
            "469/469 [==============================] - 5s 11ms/step - loss: 4.0531e-09 - accuracy: 1.0000\n",
            "Epoch 82/100\n",
            "469/469 [==============================] - 7s 15ms/step - loss: 4.0670e-09 - accuracy: 1.0000\n",
            "Epoch 83/100\n",
            "469/469 [==============================] - 6s 12ms/step - loss: 4.1048e-09 - accuracy: 1.0000\n",
            "Epoch 84/100\n",
            "469/469 [==============================] - 5s 11ms/step - loss: 4.1207e-09 - accuracy: 1.0000\n",
            "Epoch 85/100\n",
            "469/469 [==============================] - 5s 10ms/step - loss: 4.1167e-09 - accuracy: 1.0000\n",
            "Epoch 86/100\n",
            "469/469 [==============================] - 5s 11ms/step - loss: 4.1246e-09 - accuracy: 1.0000\n",
            "Epoch 87/100\n",
            "469/469 [==============================] - 6s 13ms/step - loss: 4.0809e-09 - accuracy: 1.0000\n",
            "Epoch 88/100\n",
            "469/469 [==============================] - 5s 11ms/step - loss: 4.0750e-09 - accuracy: 1.0000\n",
            "Epoch 89/100\n",
            "469/469 [==============================] - 5s 11ms/step - loss: 4.1087e-09 - accuracy: 1.0000\n",
            "Epoch 90/100\n",
            "469/469 [==============================] - 5s 11ms/step - loss: 4.1008e-09 - accuracy: 1.0000\n",
            "Epoch 91/100\n",
            "469/469 [==============================] - 5s 10ms/step - loss: 4.1187e-09 - accuracy: 1.0000\n",
            "Epoch 92/100\n",
            "469/469 [==============================] - 5s 11ms/step - loss: 4.1385e-09 - accuracy: 1.0000\n",
            "Epoch 93/100\n",
            "469/469 [==============================] - 5s 11ms/step - loss: 4.0750e-09 - accuracy: 1.0000\n",
            "Epoch 94/100\n",
            "469/469 [==============================] - 5s 11ms/step - loss: 4.1246e-09 - accuracy: 1.0000\n",
            "Epoch 95/100\n",
            "469/469 [==============================] - 5s 10ms/step - loss: 4.1385e-09 - accuracy: 1.0000\n",
            "Epoch 96/100\n",
            "469/469 [==============================] - 5s 10ms/step - loss: 4.1644e-09 - accuracy: 1.0000\n",
            "Epoch 97/100\n",
            "469/469 [==============================] - 5s 11ms/step - loss: 4.1842e-09 - accuracy: 1.0000\n",
            "Epoch 98/100\n",
            "469/469 [==============================] - 7s 16ms/step - loss: 4.1823e-09 - accuracy: 1.0000\n",
            "Epoch 99/100\n",
            "469/469 [==============================] - 9s 18ms/step - loss: 4.1346e-09 - accuracy: 1.0000\n",
            "Epoch 100/100\n",
            "469/469 [==============================] - 6s 13ms/step - loss: 4.1286e-09 - accuracy: 1.0000\n"
          ]
        },
        {
          "output_type": "execute_result",
          "data": {
            "text/plain": [
              "<keras.callbacks.History at 0x7faef35c1ed0>"
            ]
          },
          "metadata": {},
          "execution_count": 78
        }
      ]
    },
    {
      "cell_type": "code",
      "source": [
        "test_loss,test_acc = model.evaluate(test_images, test_labels)\n",
        "print('Test accuracy:',test_acc)"
      ],
      "metadata": {
        "colab": {
          "base_uri": "https://localhost:8080/"
        },
        "id": "A670PqhnFk8T",
        "outputId": "1917665f-1b30-4e0e-f6bb-ab26315aa9f6"
      },
      "execution_count": null,
      "outputs": [
        {
          "output_type": "stream",
          "name": "stdout",
          "text": [
            "313/313 [==============================] - 1s 3ms/step - loss: 0.1496 - accuracy: 0.9841\n",
            "Test accuracy: 0.9840999841690063\n"
          ]
        }
      ]
    },
    {
      "cell_type": "code",
      "source": [
        "from keras.datasets import fashion_mnist\n",
        "(x_train,y_train),(x_test,y_test)=fashion_mnist.load_data()\n",
        "x_train.shape\n"
      ],
      "metadata": {
        "colab": {
          "base_uri": "https://localhost:8080/"
        },
        "id": "wDastW7hEfCX",
        "outputId": "9306a3a2-531e-4835-aeed-c3de845c308b"
      },
      "execution_count": null,
      "outputs": [
        {
          "output_type": "stream",
          "name": "stdout",
          "text": [
            "Downloading data from https://storage.googleapis.com/tensorflow/tf-keras-datasets/train-labels-idx1-ubyte.gz\n",
            "29515/29515 [==============================] - 0s 0us/step\n",
            "Downloading data from https://storage.googleapis.com/tensorflow/tf-keras-datasets/train-images-idx3-ubyte.gz\n",
            "26421880/26421880 [==============================] - 0s 0us/step\n",
            "Downloading data from https://storage.googleapis.com/tensorflow/tf-keras-datasets/t10k-labels-idx1-ubyte.gz\n",
            "5148/5148 [==============================] - 0s 0us/step\n",
            "Downloading data from https://storage.googleapis.com/tensorflow/tf-keras-datasets/t10k-images-idx3-ubyte.gz\n",
            "4422102/4422102 [==============================] - 0s 0us/step\n"
          ]
        },
        {
          "output_type": "execute_result",
          "data": {
            "text/plain": [
              "(60000, 28, 28)"
            ]
          },
          "metadata": {},
          "execution_count": 41
        }
      ]
    },
    {
      "cell_type": "code",
      "source": [
        "from keras.datasets import fashion_mnist\n",
        "(x_train,y_train),(x_test,y_test)=fashion_mnist.load_data()\n",
        "y_train.shape\n"
      ],
      "metadata": {
        "colab": {
          "base_uri": "https://localhost:8080/"
        },
        "id": "9YRTkoGCHdoH",
        "outputId": "63ceae1d-a5a6-4114-fb0f-1a56df0f1ef7"
      },
      "execution_count": null,
      "outputs": [
        {
          "output_type": "execute_result",
          "data": {
            "text/plain": [
              "(60000,)"
            ]
          },
          "metadata": {},
          "execution_count": 42
        }
      ]
    },
    {
      "cell_type": "code",
      "source": [
        "from keras.datasets import fashion_mnist\n",
        "(x_train,y_train),(x_test,y_test)=fashion_mnist.load_data()\n",
        "x_test.shape \n"
      ],
      "metadata": {
        "colab": {
          "base_uri": "https://localhost:8080/"
        },
        "id": "uakR7NYwHakG",
        "outputId": "2dc64aa4-7abc-44f2-f854-f5cf4aedf99d"
      },
      "execution_count": null,
      "outputs": [
        {
          "output_type": "execute_result",
          "data": {
            "text/plain": [
              "(10000, 28, 28)"
            ]
          },
          "metadata": {},
          "execution_count": 43
        }
      ]
    },
    {
      "cell_type": "code",
      "source": [
        "from keras.datasets import fashion_mnist\n",
        "(x_train,y_train),(x_test,y_test)=fashion_mnist.load_data()\n",
        "y_test.shape \n"
      ],
      "metadata": {
        "colab": {
          "base_uri": "https://localhost:8080/"
        },
        "id": "e_T9r-PaHaE0",
        "outputId": "8cb96cdd-262c-466c-d9f5-3f0b71c4bc1b"
      },
      "execution_count": null,
      "outputs": [
        {
          "output_type": "execute_result",
          "data": {
            "text/plain": [
              "(10000,)"
            ]
          },
          "metadata": {},
          "execution_count": 44
        }
      ]
    },
    {
      "cell_type": "code",
      "source": [
        "class_name=['T-shirt/Top','Trous','Pullover','Press','Coat','Sandal','Shirt','Sneaker','Bag','Ankle boot']\n",
        "plt.imshow(x_train[700])\n",
        "plt.show()\n",
        "print(class_name[y_train[700]])"
      ],
      "metadata": {
        "colab": {
          "base_uri": "https://localhost:8080/",
          "height": 282
        },
        "id": "qEKMRivKKgcD",
        "outputId": "4c24a839-7761-462d-e404-d7e4cd1e2669"
      },
      "execution_count": null,
      "outputs": [
        {
          "output_type": "display_data",
          "data": {
            "text/plain": [
              "<Figure size 432x288 with 1 Axes>"
            ],
            "image/png": "[encoded data removed]"
          },
          "metadata": {
            "needs_background": "light"
          }
        },
        {
          "output_type": "stream",
          "name": "stdout",
          "text": [
            "T-shirt/Top\n"
          ]
        }
      ]
    },
    {
      "cell_type": "code",
      "source": [
        "import matplotlib.pyplot as plt\n",
        "from tensorflow.keras.utils import load_img\n",
        "from tensorflow.keras.utils import img_to_array\n",
        "url='/content/18046267_40682101_300.jpg'\n",
        "img = load_img(url,target_size=(28,28))\n",
        "plt.imshow(img)"
      ],
      "metadata": {
        "colab": {
          "base_uri": "https://localhost:8080/",
          "height": 282
        },
        "id": "mQqXsrTgSpQy",
        "outputId": "32af4c57-c678-42ec-d945-504ce45b7e2b"
      },
      "execution_count": null,
      "outputs": [
        {
          "output_type": "execute_result",
          "data": {
            "text/plain": [
              "<matplotlib.image.AxesImage at 0x7faef35bc1d0>"
            ]
          },
          "metadata": {},
          "execution_count": 85
        },
        {
          "output_type": "display_data",
          "data": {
            "text/plain": [
              "<Figure size 432x288 with 1 Axes>"
            ],
            "image/png": "[encoded data removed]"
          },
          "metadata": {
            "needs_background": "light"
          }
        }
      ]
    },
    {
      "cell_type": "code",
      "source": [
        "img = img_to_array(img)"
      ],
      "metadata": {
        "id": "tqWcYKBTRgXe"
      },
      "execution_count": null,
      "outputs": []
    },
    {
      "cell_type": "code",
      "source": [
        "img = img.reshape(1, 28, 28, 3)"
      ],
      "metadata": {
        "id": "JzWdh5gESGbD"
      },
      "execution_count": null,
      "outputs": []
    },
    {
      "cell_type": "code",
      "source": [
        "img = img.astype('float32')"
      ],
      "metadata": {
        "id": "W0-8gCzZSJOC"
      },
      "execution_count": null,
      "outputs": []
    },
    {
      "cell_type": "code",
      "source": [
        "img = img/255"
      ],
      "metadata": {
        "id": "5_-atyvpSY8n"
      },
      "execution_count": null,
      "outputs": []
    },
    {
      "cell_type": "code",
      "source": [
        "img = img.reshape(-1, 784)\n",
        "np.argmax(model.predict(img), axis=1)\n",
        "print(model.predict(img))"
      ],
      "metadata": {
        "colab": {
          "base_uri": "https://localhost:8080/"
        },
        "id": "hlw8iAqdWZHW",
        "outputId": "4b3de76b-fc14-4e56-b58b-7ed2f070fa5a"
      },
      "execution_count": null,
      "outputs": [
        {
          "output_type": "stream",
          "name": "stdout",
          "text": [
            "1/1 [==============================] - 0s 80ms/step\n",
            "1/1 [==============================] - 0s 22ms/step\n",
            "[[0.0000000e+00 0.0000000e+00 0.0000000e+00 0.0000000e+00 0.0000000e+00\n",
            "  0.0000000e+00 1.5207674e-17 0.0000000e+00 1.0000000e+00 0.0000000e+00]\n",
            " [0.0000000e+00 0.0000000e+00 4.3507162e-38 0.0000000e+00 0.0000000e+00\n",
            "  0.0000000e+00 3.9052547e-24 0.0000000e+00 1.0000000e+00 0.0000000e+00]\n",
            " [0.0000000e+00 0.0000000e+00 0.0000000e+00 0.0000000e+00 0.0000000e+00\n",
            "  0.0000000e+00 0.0000000e+00 0.0000000e+00 1.0000000e+00 0.0000000e+00]]\n"
          ]
        }
      ]
    },
    {
      "cell_type": "code",
      "source": [
        "np.argmax(model.predict(img),axis = 1)"
      ],
      "metadata": {
        "colab": {
          "base_uri": "https://localhost:8080/"
        },
        "id": "i0cjONZUSMn1",
        "outputId": "2df2c24f-2158-494f-af4f-d7cc1793d3f6"
      },
      "execution_count": null,
      "outputs": [
        {
          "output_type": "stream",
          "name": "stdout",
          "text": [
            "1/1 [==============================] - 0s 19ms/step\n"
          ]
        },
        {
          "output_type": "execute_result",
          "data": {
            "text/plain": [
              "array([8, 8, 8])"
            ]
          },
          "metadata": {},
          "execution_count": 20
        }
      ]
    }
  ]
}