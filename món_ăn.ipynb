{
  "cells": [
    {
      "cell_type": "markdown",
      "metadata": {
        "id": "view-in-github",
        "colab_type": "text"
      },
      "source": [
        "<a href=\"https://colab.research.google.com/github/20104047TranThiMyNgoc/AI-Subject/blob/main/m%C3%B3n_%C4%83n.ipynb\" target=\"_parent\"><img src=\"https://colab.research.google.com/assets/colab-badge.svg\" alt=\"Open In Colab\"/></a>"
      ]
    },
    {
      "cell_type": "code",
      "source": [
        "from google.colab import drive\n",
        "drive.mount('/content/drive')"
      ],
      "metadata": {
        "colab": {
          "base_uri": "https://localhost:8080/"
        },
        "id": "2UgE8yz8ym4n",
        "outputId": "f6491518-6bdd-439e-9323-30c5d38958fb"
      },
      "execution_count": null,
      "outputs": [
        {
          "output_type": "stream",
          "name": "stdout",
          "text": [
            "Mounted at /content/drive\n"
          ]
        }
      ]
    },
    {
      "cell_type": "code",
      "execution_count": null,
      "metadata": {
        "id": "Yxk6Pbq3PVFE"
      },
      "outputs": [],
      "source": [
        "# Khai báo và sử dụng các thư viện sau\n",
        "from sklearn.model_selection import train_test_split\n",
        "import matplotlib.pyplot as plt\n",
        "import os\n",
        "import numpy as np\n",
        "import tensorflow as tf\n",
        "from keras.utils import np_utils\n",
        "from keras.models import Sequential\n",
        "from keras.layers import Dense, Activation, Dropout, Conv2D, MaxPooling2D, Flatten\n",
        "from tensorflow.keras.optimizers import SGD, RMSprop\n",
        "from keras.callbacks import EarlyStopping, ModelCheckpoint\n",
        "from sklearn.utils import validation \n",
        "from sklearn import preprocessing\n",
        "from tensorflow.keras.utils import to_categorical\n",
        "from tensorflow.keras.models import load_model\n",
        "from tensorflow.keras.utils import load_img, img_to_array\n",
        "from tensorflow.keras.preprocessing.image import ImageDataGenerator"
      ]
    },
    {
      "cell_type": "code",
      "execution_count": null,
      "metadata": {
        "colab": {
          "base_uri": "https://localhost:8080/"
        },
        "id": "WcqRnJ0SPdDv",
        "outputId": "d6721aca-a4de-4a76-d49e-c5eab28b3ff2"
      },
      "outputs": [
        {
          "output_type": "stream",
          "name": "stdout",
          "text": [
            "/content/drive/MyDrive/Colab Notebooks/BT/nhan_mon_an\n"
          ]
        }
      ],
      "source": [
        "%cd /content/drive/MyDrive/Colab Notebooks/BT/mon_an"
      ]
    },
    {
      "cell_type": "code",
      "execution_count": null,
      "metadata": {
        "id": "EIk_7PZMPgXu"
      },
      "outputs": [],
      "source": [
        "# Tạo ra class ImageDataGenerator để chỉnh sửa ảnh \n",
        "train_datagen=ImageDataGenerator(rescale=1./255, shear_range=0.2, zoom_range=0.2, horizontal_flip=True)"
      ]
    },
    {
      "cell_type": "code",
      "execution_count": null,
      "metadata": {
        "colab": {
          "base_uri": "https://localhost:8080/"
        },
        "id": "loboAZ_aPje9",
        "outputId": "4d816147-2d3d-4b27-e95c-4eedd6a691a7"
      },
      "outputs": [
        {
          "output_type": "stream",
          "name": "stdout",
          "text": [
            "Found 589 images belonging to 10 classes.\n"
          ]
        }
      ],
      "source": [
        "# Tạo bộ dữ liệu training set\n",
        "training_set=train_datagen.flow_from_directory('/content/drive/MyDrive/Colab Notebooks/BT/mon_an/train',target_size=(100,100), batch_size=32, class_mode='categorical')"
      ]
    },
    {
      "cell_type": "code",
      "execution_count": null,
      "metadata": {
        "colab": {
          "base_uri": "https://localhost:8080/"
        },
        "id": "LOE8YwVVPnBR",
        "outputId": "394b2e8f-50f4-4cbb-aa5f-1991ac3f01c7"
      },
      "outputs": [
        {
          "output_type": "stream",
          "name": "stdout",
          "text": [
            "Found 589 images belonging to 1 classes.\n"
          ]
        }
      ],
      "source": [
        "# Tạo bộ dữ liệu validation\n",
        "validation=train_datagen.flow_from_directory('/content/drive/MyDrive/Colab Notebooks/BT/mon_an/Validation',target_size=(100,100), batch_size=32, class_mode='categorical')"
      ]
    },
    {
      "cell_type": "code",
      "execution_count": null,
      "metadata": {
        "colab": {
          "base_uri": "https://localhost:8080/"
        },
        "id": "GMw9R0I5QDhs",
        "outputId": "f1ddfe92-830a-4ecd-c006-93f6fbee90c1"
      },
      "outputs": [
        {
          "output_type": "execute_result",
          "data": {
            "text/plain": [
              "{'banh mi': 0,\n",
              " 'banh trang tron': 1,\n",
              " 'banh xeo': 2,\n",
              " 'bun dau mam tom': 3,\n",
              " 'canh kho qua': 4,\n",
              " 'chan ga nuong': 5,\n",
              " 'che': 6,\n",
              " 'pho': 7,\n",
              " 'thit kho trung': 8,\n",
              " 'vit quay': 9}"
            ]
          },
          "metadata": {},
          "execution_count": 9
        }
      ],
      "source": [
        "# Các nhãn có trong bộ dữ liệu training set\n",
        "training_set.class_indices"
      ]
    },
    {
      "cell_type": "code",
      "execution_count": null,
      "metadata": {
        "colab": {
          "base_uri": "https://localhost:8080/"
        },
        "id": "0Crky8WbQIzM",
        "outputId": "32db3a69-3196-4772-eb81-09558d8fe5fa"
      },
      "outputs": [
        {
          "output_type": "execute_result",
          "data": {
            "text/plain": [
              "{'Validation': 0}"
            ]
          },
          "metadata": {},
          "execution_count": 10
        }
      ],
      "source": [
        "# Các nhãn có trong bộ dữ liệu validation\n",
        "validation.class_indices"
      ]
    },
    {
      "cell_type": "code",
      "execution_count": null,
      "metadata": {
        "colab": {
          "base_uri": "https://localhost:8080/"
        },
        "id": "HiCTh2nkQJp5",
        "outputId": "a62e580a-17a8-43d2-aae2-661a9aaa3e42"
      },
      "outputs": [
        {
          "output_type": "stream",
          "name": "stdout",
          "text": [
            "Model: \"sequential\"\n",
            "_________________________________________________________________\n",
            " Layer (type)                Output Shape              Param #   \n",
            "=================================================================\n",
            " conv2d (Conv2D)             (None, 100, 100, 32)      896       \n",
            "                                                                 \n",
            " conv2d_1 (Conv2D)           (None, 100, 100, 32)      9248      \n",
            "                                                                 \n",
            " max_pooling2d (MaxPooling2D  (None, 50, 50, 32)       0         \n",
            " )                                                               \n",
            "                                                                 \n",
            " conv2d_2 (Conv2D)           (None, 50, 50, 64)        18496     \n",
            "                                                                 \n",
            " conv2d_3 (Conv2D)           (None, 50, 50, 64)        36928     \n",
            "                                                                 \n",
            " max_pooling2d_1 (MaxPooling  (None, 25, 25, 64)       0         \n",
            " 2D)                                                             \n",
            "                                                                 \n",
            " conv2d_4 (Conv2D)           (None, 25, 25, 128)       73856     \n",
            "                                                                 \n",
            " conv2d_5 (Conv2D)           (None, 25, 25, 128)       147584    \n",
            "                                                                 \n",
            " max_pooling2d_2 (MaxPooling  (None, 12, 12, 128)      0         \n",
            " 2D)                                                             \n",
            "                                                                 \n",
            " flatten (Flatten)           (None, 18432)             0         \n",
            "                                                                 \n",
            " dense (Dense)               (None, 128)               2359424   \n",
            "                                                                 \n",
            " dropout (Dropout)           (None, 128)               0         \n",
            "                                                                 \n",
            " dense_1 (Dense)             (None, 10)                1290      \n",
            "                                                                 \n",
            "=================================================================\n",
            "Total params: 2,647,722\n",
            "Trainable params: 2,647,722\n",
            "Non-trainable params: 0\n",
            "_________________________________________________________________\n"
          ]
        }
      ],
      "source": [
        "# Tạo ra mạng CNN để train mô hình\n",
        "model=Sequential()\n",
        "# Tích chập 32 lần với mỗi lần là 3 hàng 3 cột\n",
        "model.add(Conv2D(32,(3,3), activation='relu', kernel_initializer='he_uniform', padding='same',input_shape=(100,100,3))) \n",
        "model.add(Conv2D(32,(3,3), activation='relu', kernel_initializer='he_uniform', padding='same'))\n",
        "# Lấy phần tử lớn nhất ở trong 2 hàng và 2 cột\n",
        "model.add(MaxPooling2D(2,2))\n",
        "# Tích chập 64 lần với mỗi lần là 3 hàng 3 cột\n",
        "model.add(Conv2D(64,(3,3), activation='relu', kernel_initializer='he_uniform', padding='same')) \n",
        "model.add(Conv2D(64,(3,3), activation='relu', kernel_initializer='he_uniform', padding='same'))\n",
        "# Lấy phần tử lớn nhất ở trong 2 hàng và 2 cột\n",
        "model.add(MaxPooling2D(2,2))\n",
        "# Tích chập 128 lần với mỗi lần là 3 hàng 3 cột\n",
        "model.add(Conv2D(128,(3,3), activation='relu', kernel_initializer='he_uniform', padding='same')) \n",
        "model.add(Conv2D(128,(3,3), activation='relu', kernel_initializer='he_uniform', padding='same'))\n",
        "# Lấy phần tử lớn nhất ở trong 2 hàng và 2 cột\n",
        "model.add(MaxPooling2D(2,2))\n",
        "# Duỗi thẳng dữ liệu \n",
        "model.add(Flatten())\n",
        "# Tạo lớp ẩn thứ nhất với 128 tín hiệu ra\n",
        "model.add(Dense(128,activation='relu',kernel_initializer='he_uniform'))\n",
        "model.add(Dropout(0.2))\n",
        "# Tạo lớp ẩn thứ hai với 10 tín hiệu ra\n",
        "model.add(Dense(10,activation='softmax'))\n",
        "model.summary()"
      ]
    },
    {
      "cell_type": "code",
      "execution_count": null,
      "metadata": {
        "colab": {
          "base_uri": "https://localhost:8080/"
        },
        "id": "JYnzt5ieQNd7",
        "outputId": "227f87e5-19b8-4ece-8a11-65444f744d5a"
      },
      "outputs": [
        {
          "output_type": "stream",
          "name": "stdout",
          "text": [
            "Epoch 1/100\n",
            "19/19 [==============================] - 891s 48s/step - loss: 3.2351 - accuracy: 0.1019 - val_loss: 23.0498 - val_accuracy: 0.0000e+00\n",
            "Epoch 2/100\n",
            "19/19 [==============================] - 13s 730ms/step - loss: 2.2253 - accuracy: 0.1511 - val_loss: 25.5275 - val_accuracy: 0.0000e+00\n",
            "Epoch 3/100\n",
            "19/19 [==============================] - 13s 727ms/step - loss: 2.0447 - accuracy: 0.1935 - val_loss: 28.3874 - val_accuracy: 0.0034\n",
            "Epoch 4/100\n",
            "19/19 [==============================] - 15s 798ms/step - loss: 1.9720 - accuracy: 0.2513 - val_loss: 30.2824 - val_accuracy: 0.0357\n",
            "Epoch 5/100\n",
            "19/19 [==============================] - 13s 714ms/step - loss: 1.8841 - accuracy: 0.3073 - val_loss: 29.0143 - val_accuracy: 0.0017\n",
            "Epoch 6/100\n",
            "19/19 [==============================] - 13s 727ms/step - loss: 1.8155 - accuracy: 0.3107 - val_loss: 34.1819 - val_accuracy: 0.2224\n",
            "Epoch 7/100\n",
            "19/19 [==============================] - 13s 727ms/step - loss: 1.7384 - accuracy: 0.3531 - val_loss: 32.6225 - val_accuracy: 0.0934\n",
            "Epoch 8/100\n",
            "19/19 [==============================] - 14s 758ms/step - loss: 1.5791 - accuracy: 0.3786 - val_loss: 38.5726 - val_accuracy: 0.0849\n",
            "Epoch 9/100\n",
            "19/19 [==============================] - 14s 752ms/step - loss: 1.4398 - accuracy: 0.4448 - val_loss: 38.9731 - val_accuracy: 0.0543\n",
            "Epoch 10/100\n",
            "19/19 [==============================] - 13s 717ms/step - loss: 1.4746 - accuracy: 0.4380 - val_loss: 32.4795 - val_accuracy: 0.0611\n",
            "Epoch 11/100\n",
            "19/19 [==============================] - 13s 715ms/step - loss: 1.3592 - accuracy: 0.4754 - val_loss: 49.0793 - val_accuracy: 0.2190\n",
            "Epoch 12/100\n",
            "19/19 [==============================] - 13s 711ms/step - loss: 1.2755 - accuracy: 0.5127 - val_loss: 46.3069 - val_accuracy: 0.0951\n",
            "Epoch 13/100\n",
            "19/19 [==============================] - 13s 734ms/step - loss: 1.2695 - accuracy: 0.5280 - val_loss: 38.5405 - val_accuracy: 0.0424\n",
            "Epoch 14/100\n",
            "19/19 [==============================] - 13s 728ms/step - loss: 1.2257 - accuracy: 0.5433 - val_loss: 47.5091 - val_accuracy: 0.0764\n",
            "Epoch 15/100\n",
            "19/19 [==============================] - 13s 728ms/step - loss: 1.0573 - accuracy: 0.6027 - val_loss: 56.4908 - val_accuracy: 0.1087\n",
            "Epoch 16/100\n",
            "19/19 [==============================] - 13s 723ms/step - loss: 1.1391 - accuracy: 0.5891 - val_loss: 47.1834 - val_accuracy: 0.0611\n",
            "Epoch 17/100\n",
            "19/19 [==============================] - 13s 721ms/step - loss: 0.9532 - accuracy: 0.6587 - val_loss: 61.1145 - val_accuracy: 0.1511\n",
            "Epoch 18/100\n",
            "19/19 [==============================] - 13s 721ms/step - loss: 0.9672 - accuracy: 0.6435 - val_loss: 56.6375 - val_accuracy: 0.0424\n",
            "Epoch 19/100\n",
            "19/19 [==============================] - 14s 730ms/step - loss: 0.8803 - accuracy: 0.6706 - val_loss: 65.9009 - val_accuracy: 0.0628\n",
            "Epoch 20/100\n",
            "19/19 [==============================] - 15s 785ms/step - loss: 0.9225 - accuracy: 0.6689 - val_loss: 53.6420 - val_accuracy: 0.1053\n",
            "Epoch 21/100\n",
            "19/19 [==============================] - 13s 739ms/step - loss: 0.8607 - accuracy: 0.7131 - val_loss: 60.7378 - val_accuracy: 0.1104\n",
            "Epoch 22/100\n",
            "19/19 [==============================] - 13s 702ms/step - loss: 0.7322 - accuracy: 0.7233 - val_loss: 71.5865 - val_accuracy: 0.1002\n",
            "Epoch 23/100\n",
            "19/19 [==============================] - 13s 735ms/step - loss: 0.6372 - accuracy: 0.7742 - val_loss: 84.1406 - val_accuracy: 0.0985\n",
            "Epoch 24/100\n",
            "19/19 [==============================] - 13s 713ms/step - loss: 0.6208 - accuracy: 0.7640 - val_loss: 83.0450 - val_accuracy: 0.1104\n",
            "Epoch 25/100\n",
            "19/19 [==============================] - 13s 708ms/step - loss: 0.6538 - accuracy: 0.7776 - val_loss: 65.3953 - val_accuracy: 0.0968\n",
            "Epoch 26/100\n",
            "19/19 [==============================] - 13s 723ms/step - loss: 0.5886 - accuracy: 0.7929 - val_loss: 76.5201 - val_accuracy: 0.1171\n",
            "Epoch 27/100\n",
            "19/19 [==============================] - 13s 720ms/step - loss: 0.5401 - accuracy: 0.7946 - val_loss: 90.3602 - val_accuracy: 0.1358\n",
            "Epoch 28/100\n",
            "19/19 [==============================] - 13s 724ms/step - loss: 0.4792 - accuracy: 0.8472 - val_loss: 89.2685 - val_accuracy: 0.1222\n",
            "Epoch 29/100\n",
            "19/19 [==============================] - 13s 732ms/step - loss: 0.4230 - accuracy: 0.8608 - val_loss: 96.2662 - val_accuracy: 0.1104\n",
            "Epoch 30/100\n",
            "19/19 [==============================] - 13s 726ms/step - loss: 0.4553 - accuracy: 0.8319 - val_loss: 91.8985 - val_accuracy: 0.0883\n",
            "Epoch 31/100\n",
            "19/19 [==============================] - 13s 724ms/step - loss: 0.4271 - accuracy: 0.8404 - val_loss: 104.0652 - val_accuracy: 0.0662\n"
          ]
        }
      ],
      "source": [
        "model.compile(optimizer='adam',loss='categorical_crossentropy',metrics=['accuracy'])\n",
        "\n",
        "history=model.fit(training_set,epochs=100,batch_size=128,verbose=1, validation_data=validation, callbacks=[EarlyStopping(monitor='val_loss', patience=30)])"
      ]
    },
    {
      "cell_type": "code",
      "execution_count": null,
      "metadata": {
        "id": "WXb0H-tJQRwx"
      },
      "outputs": [],
      "source": [
        "# Lưu lại\n",
        "model.save(\"nhan_dien_mon_an.h5\")"
      ]
    },
    {
      "cell_type": "code",
      "execution_count": null,
      "metadata": {
        "id": "1zOP2AFpQVrK"
      },
      "outputs": [],
      "source": [
        "# Tải mô hình \n",
        "model_CNN=load_model('nhan_dien_mon_an.h5')"
      ]
    },
    {
      "cell_type": "code",
      "execution_count": null,
      "metadata": {
        "id": "iEaVn000QYx1",
        "colab": {
          "base_uri": "https://localhost:8080/"
        },
        "outputId": "ef159e5a-5ea0-414d-8335-ffbefc637f97"
      },
      "outputs": [
        {
          "output_type": "stream",
          "name": "stdout",
          "text": [
            "Train Loss 0.457059383392334\n",
            "Train Accuracy 0.8488964438438416\n"
          ]
        }
      ],
      "source": [
        "# Đánh giá độ chính xác của mô hình \n",
        "Score=model_CNN.evaluate(training_set,verbose = 0)\n",
        "print('Train Loss', Score[0])\n",
        "print('Train Accuracy', Score[1])"
      ]
    },
    {
      "cell_type": "code",
      "execution_count": null,
      "metadata": {
        "id": "_bpgOlz5QbNA",
        "colab": {
          "base_uri": "https://localhost:8080/",
          "height": 312
        },
        "outputId": "1d363e43-a2d6-4013-d4ce-606625e16837"
      },
      "outputs": [
        {
          "output_type": "execute_result",
          "data": {
            "text/plain": [
              "<function matplotlib.pyplot.show(*args, **kw)>"
            ]
          },
          "metadata": {},
          "execution_count": 16
        },
        {
          "output_type": "display_data",
          "data": {
            "text/plain": [
              "<Figure size 432x288 with 1 Axes>"
            ],
            "image/png": "[encoded data removed]"
          },
          "metadata": {
            "needs_background": "light"
          }
        }
      ],
      "source": [
        "# Vẽ đồ thị giữa số lần học (Epochs) và độ chính xác (Accuracy)\n",
        "plt.plot(history.history['accuracy'])\n",
        "plt.plot(history.history['val_accuracy'])\n",
        "plt.title('Model Accuracy')\n",
        "plt.ylabel('Accuracy')\n",
        "plt.xlabel('Epochs')\n",
        "plt.legend(['Train','Validation'])\n",
        "plt.show"
      ]
    },
    {
      "cell_type": "code",
      "execution_count": null,
      "metadata": {
        "colab": {
          "base_uri": "https://localhost:8080/",
          "height": 252
        },
        "id": "8wNuNdCYQi-w",
        "outputId": "cf6b3263-9b4e-42c4-9cd2-421acfe9165e"
      },
      "outputs": [
        {
          "output_type": "error",
          "ename": "FileNotFoundError",
          "evalue": "ignored",
          "traceback": [
            "\u001b[0;31m---------------------------------------------------------------------------\u001b[0m",
            "\u001b[0;31mFileNotFoundError\u001b[0m                         Traceback (most recent call last)",
            "\u001b[0;32m<ipython-input-15-883d36e415af>\u001b[0m in \u001b[0;36m<module>\u001b[0;34m\u001b[0m\n\u001b[1;32m      5\u001b[0m \u001b[0;32mfor\u001b[0m \u001b[0mj\u001b[0m \u001b[0;32min\u001b[0m \u001b[0mtest\u001b[0m\u001b[0;34m:\u001b[0m\u001b[0;34m\u001b[0m\u001b[0;34m\u001b[0m\u001b[0m\n\u001b[1;32m      6\u001b[0m   \u001b[0mstt\u001b[0m \u001b[0;34m+=\u001b[0m \u001b[0;36m1\u001b[0m\u001b[0;34m\u001b[0m\u001b[0;34m\u001b[0m\u001b[0m\n\u001b[0;32m----> 7\u001b[0;31m   \u001b[0;32mfor\u001b[0m \u001b[0mi\u001b[0m \u001b[0;32min\u001b[0m \u001b[0mos\u001b[0m\u001b[0;34m.\u001b[0m\u001b[0mlistdir\u001b[0m\u001b[0;34m(\u001b[0m\u001b[0mj\u001b[0m\u001b[0;34m)\u001b[0m\u001b[0;34m:\u001b[0m\u001b[0;34m\u001b[0m\u001b[0;34m\u001b[0m\u001b[0m\n\u001b[0m\u001b[1;32m      8\u001b[0m     \u001b[0mimg\u001b[0m\u001b[0;34m=\u001b[0m\u001b[0mload_img\u001b[0m\u001b[0;34m(\u001b[0m\u001b[0mj\u001b[0m\u001b[0;34m+\u001b[0m\u001b[0;34m'/'\u001b[0m\u001b[0;34m+\u001b[0m\u001b[0mi\u001b[0m\u001b[0;34m,\u001b[0m\u001b[0mtarget_size\u001b[0m\u001b[0;34m=\u001b[0m\u001b[0;34m(\u001b[0m\u001b[0;36m100\u001b[0m\u001b[0;34m,\u001b[0m\u001b[0;36m100\u001b[0m\u001b[0;34m)\u001b[0m\u001b[0;34m)\u001b[0m\u001b[0;34m\u001b[0m\u001b[0;34m\u001b[0m\u001b[0m\n\u001b[1;32m      9\u001b[0m     \u001b[0mprint\u001b[0m\u001b[0;34m(\u001b[0m\u001b[0mimg\u001b[0m\u001b[0;34m)\u001b[0m\u001b[0;34m\u001b[0m\u001b[0;34m\u001b[0m\u001b[0m\n",
            "\u001b[0;31mFileNotFoundError\u001b[0m: [Errno 2] No such file or directory: '/content/drive/MyDrive/Colab Notebooks/BT/nhan_mon_an/Test/Test 1/Test1'"
          ]
        }
      ],
      "source": [
        "test1=\"/content/drive/MyDrive/Colab Notebooks/BT/mon_an/Test/Test 1/Test1\"\n",
        "test2=\"\"\n",
        "test = [test1, test2]\n",
        "stt = 0\n",
        "for j in test:\n",
        "  stt += 1\n",
        "  for i in os.listdir(j):\n",
        "    img=load_img(j+'/'+i,target_size=(100,100))\n",
        "    print(img)\n",
        "    plt.imshow(img)\n",
        "    img=img_to_array(img)\n",
        "    img=img.astype('float32')\n",
        "    img=img/255\n",
        "    img=np.expand_dims(img,axis=0)\n",
        "    result=model_CNN.predict(img)\n",
        "    if round(result[0][0])==1:\n",
        "      prediction='banh mi'\n",
        "    if round(result[0][1])==1:\n",
        "      prediction='banh trang tron'\n",
        "    if round(result[0][2])==1:\n",
        "      prediction='banh xeo'\n",
        "    if round(result[0][3])==1:\n",
        "      prediction='bun dau manm tom'\n",
        "    if round(result[0][4])==1:\n",
        "      prediction='canh kho qua'\n",
        "    if round(result[0][5])==1:\n",
        "      prediction='chan ga nuong'\n",
        "    if round(result[0][6])==1:\n",
        "      prediction='che'\n",
        "    if round(result[0][7])==1:\n",
        "      prediction='pho'\n",
        "    if round(result[0][8])==1:\n",
        "      prediction='thit kho trung'\n",
        "    if round(result[0][9])==1:\n",
        "      prediction='vit quay'\n",
        "    print('Ten mon an:',prediction)\n",
        "    print(f'Chu thich: Du lieu nam trong Test{stt}')\n",
        "    plt.show()"
      ]
    }
  ],
  "metadata": {
    "accelerator": "GPU",
    "colab": {
      "provenance": [],
      "include_colab_link": true
    },
    "gpuClass": "standard",
    "kernelspec": {
      "display_name": "Python 3",
      "name": "python3"
    },
    "language_info": {
      "name": "python"
    }
  },
  "nbformat": 4,
  "nbformat_minor": 0
}