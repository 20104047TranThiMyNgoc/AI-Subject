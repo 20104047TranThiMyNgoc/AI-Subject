{
  "nbformat": 4,
  "nbformat_minor": 0,
  "metadata": {
    "colab": {
      "provenance": [],
      "collapsed_sections": [],
      "toc_visible": true,
      "authorship_tag": "ABX9TyNTlZDU49awPcWDfHTstEd7",
      "include_colab_link": true
    },
    "kernelspec": {
      "name": "python3",
      "display_name": "Python 3"
    },
    "language_info": {
      "name": "python"
    }
  },
  "cells": [
    {
      "cell_type": "markdown",
      "metadata": {
        "id": "view-in-github",
        "colab_type": "text"
      },
      "source": [
        "<a href=\"https://colab.research.google.com/github/20104047TranThiMyNgoc/AI-Subject/blob/main/Tu%E1%BA%A7n5.ipynb\" target=\"_parent\"><img src=\"https://colab.research.google.com/assets/colab-badge.svg\" alt=\"Open In Colab\"/></a>"
      ]
    },
    {
      "cell_type": "code",
      "source": [
        "import numpy as np\n",
        "from sklearn.linear_model import Perceptron\n",
        "x=[[10,0],[1,0],[0,1],[1,1]]\n",
        "y=[0,1,1,1]\n",
        "model=Perceptron()\n",
        "model.fit(x,y)\n",
        "print('do chinh xac',model.score(x,y))\n",
        "x_test=[[0.5,0],[0.9,-0.2],[1,-0.5],[0.2,0.7]]\n",
        "y_test=model.predict(x_test)\n",
        "print(y_test)"
      ],
      "metadata": {
        "colab": {
          "base_uri": "https://localhost:8080/"
        },
        "id": "6_5oZPwJ1aOr",
        "outputId": "c0e6b070-bc03-47b6-f631-dad811b39078"
      },
      "execution_count": null,
      "outputs": [
        {
          "output_type": "stream",
          "name": "stdout",
          "text": [
            "do chinh xac 1.0\n",
            "[1 1 0 1]\n"
          ]
        }
      ]
    },
    {
      "cell_type": "code",
      "source": [
        "import numpy as np\n",
        "from sklearn.linear_model import Perceptron\n",
        "x=[[-0.5,-0.5],[-0.5,0.5],[0.3,-0.5],[-0.1,1]]\n",
        "y=[1,1,0,0]\n",
        "model=Perceptron()\n",
        "model.fit(x,y)\n",
        "print('do chinh xac',model.score(x,y))\n",
        "x_test=[[0,1],[1,0],[0,0],[0,0]]\n",
        "y_test=model.predict(x_test)\n",
        "print(y_test)"
      ],
      "metadata": {
        "colab": {
          "base_uri": "https://localhost:8080/"
        },
        "id": "Lt-CDRF11ghh",
        "outputId": "041ef313-14e0-49c8-c2ab-75fba63b445c"
      },
      "execution_count": null,
      "outputs": [
        {
          "output_type": "stream",
          "name": "stdout",
          "text": [
            "do chinh xac 1.0\n",
            "[0 0 0 0]\n"
          ]
        }
      ]
    },
    {
      "cell_type": "code",
      "source": [
        "import numpy as np\n",
        "from sklearn.linear_model import Perceptron\n",
        "from sklearn.model_selection import train_test_split\n",
        "import pandas as pd\n",
        "url='/content/crabs.csv'\n",
        "data= pd.read_csv(url)\n",
        "data = data[:95]\n",
        "data.loc[data['sex']=='M','sex']='1'\n",
        "data.loc[data['sex']=='F','sex']='0'\n",
        "data[(data['speies']=='B')]\n",
        "x=data.drop(['speies','sex'],axis=True)    #bo di loài, giới tính\n",
        "y=data['sex']#giới tính\n",
        "model=Perceptron()\n",
        "model.fit(x,y)\n",
        "print('độ chính xác',model.score(x,y))\n",
        "x_train,x_test,y_train,y_test = train_test_split(x,y,test_size=0.3,random_state=10)\n",
        "x_test = [[5,6,14,13,10,6],[8,12,7,23,30,15],[13,5,22,15,10,13],[19,12,15,20.3,11.5,22.6]] \n",
        "y_test = model.predict(x_test)\n",
        "print(y_test)"
      ],
      "metadata": {
        "colab": {
          "base_uri": "https://localhost:8080/"
        },
        "outputId": "22ac140b-c043-4123-fa48-de096d3cc8ba",
        "id": "NdIsJeb4zqlh"
      },
      "execution_count": null,
      "outputs": [
        {
          "output_type": "stream",
          "name": "stdout",
          "text": [
            "độ chính xác 0.9894736842105263\n",
            "['0' '1' '0' '0']\n"
          ]
        },
        {
          "output_type": "stream",
          "name": "stderr",
          "text": [
            "/usr/local/lib/python3.7/dist-packages/sklearn/base.py:451: UserWarning: X does not have valid feature names, but Perceptron was fitted with feature names\n",
            "  \"X does not have valid feature names, but\"\n"
          ]
        }
      ]
    },
    {
      "cell_type": "code",
      "source": [
        "import numpy as np\n",
        "from sklearn.linear_model import Perceptron\n",
        "from sklearn.model_selection import train_test_split \n",
        "from sklearn.datasets import load_iris\n",
        "import pandas as pd\n",
        "url = '/content/iris.csv'\n",
        "data = pd.read_csv(url)\n",
        "data = data[:95]\n",
        "x= data.drop(['variety'],axis = 1)\n",
        "y= data['variety'].replace(['Setosa','Versicolor','Virginica'],[1,0,0])\n",
        "x_train,x_test,y_train,y_test = train_test_split(x,y,test_size = 0.3)\n",
        "model = Perceptron()\n",
        "model.fit(x_train,y_train)\n",
        "print('Độ chính xác_BT2:', model.score(x_train,y_train))\n",
        "x_vao = [[5.3,2,4,1.2],[5,2,1.5,0.8],[6,5,1.8,0.5]]\n",
        "y_ra = model.predict(x_vao)\n",
        "print(y_ra)"
      ],
      "metadata": {
        "colab": {
          "base_uri": "https://localhost:8080/"
        },
        "id": "8r0YZhTZU4AC",
        "outputId": "36849f51-8fbd-4826-d9a0-fc430ffdd668"
      },
      "execution_count": null,
      "outputs": [
        {
          "output_type": "stream",
          "name": "stdout",
          "text": [
            "Độ chính xác_BT2: 1.0\n",
            "[0 1 1]\n"
          ]
        },
        {
          "output_type": "stream",
          "name": "stderr",
          "text": [
            "/usr/local/lib/python3.7/dist-packages/sklearn/base.py:451: UserWarning: X does not have valid feature names, but Perceptron was fitted with feature names\n",
            "  \"X does not have valid feature names, but\"\n"
          ]
        }
      ]
    }
  ]
}